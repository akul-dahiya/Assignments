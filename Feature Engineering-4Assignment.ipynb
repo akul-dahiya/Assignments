{
 "cells": [
  {
   "cell_type": "markdown",
   "id": "7a6efa65-c4dc-4def-af8e-df76076a1104",
   "metadata": {},
   "source": [
    "Q1. What is data encoding? How is it useful in data science?\n",
    "\n",
    "Ans. Data encoding is the process of converting categorical data into a numerical format that can be used for machine learning algorithms and statistical models. \n",
    "\n",
    "Data encoding is essential in data science because it transforms categorical data into numerical formats, making it compatible with machine learning models. It helps improve model performance, preserves valuable information, reduces dimensionality, and enables effective feature engineering."
   ]
  },
  {
   "cell_type": "markdown",
   "id": "60e20250-30e1-432f-b743-c96d41b1fe10",
   "metadata": {},
   "source": [
    "Q2. What is nominal encoding? Provide an example of how you would use it in a real-world scenario.\n",
    "\n",
    "Ans. Nominal encoding is a method of converting categorical data with no intrinsic order (nominal data) into numerical values. Each category is assigned a unique integer.\n",
    "\n",
    "Example: For a dataset with Colors (Red, Green, Blue), nominal encoding might assign Red = 0, Green = 1, and Blue = 2. This encoding allows machine learning models to process categorical variables without assuming any order.\n",
    "\n",
    "\n",
    "\n",
    "\n",
    "\n",
    "\n"
   ]
  },
  {
   "cell_type": "markdown",
   "id": "1870fbf6-960f-49c8-a5a7-83299c3a5591",
   "metadata": {},
   "source": [
    "Q3. In what situations is nominal encoding preferred over one-hot encoding? Provide a practical example.\n",
    "\n",
    "Ans. Nominal encoding is preferred over one-hot encoding when dealing with high-cardinality features, where one-hot encoding would create many columns and increase dimensionality.\n",
    "\n",
    "Example: For a feature like ZIP Code with thousands of unique values, nominal encoding (assigning each ZIP code a unique integer) is more efficient than one-hot encoding, which would create a large number of binary columns."
   ]
  },
  {
   "cell_type": "markdown",
   "id": "3b0ab405-096c-497a-9a78-4affaa0a73ab",
   "metadata": {},
   "source": [
    "Q4. Suppose you have a dataset containing categorical data with 5 unique values. Which encoding\n",
    "technique would you use to transform this data into a format suitable for machine learning algorithms?\n",
    "Explain why you made this choice.\n",
    "\n",
    "Ans. For a dataset with 5 unique categorical values, One-Hot Encoding is typically preferred.\n",
    "\n",
    "One-Hot Encoding converts each categorical value into a binary vector, creating a separate column for each category. This avoids any implicit ordinal relationship and allows machine learning algorithms to handle the data effectively. For 5 unique values, this results in 5 binary columns, which is manageable and ensures that the model treats each category independently."
   ]
  },
  {
   "cell_type": "markdown",
   "id": "0bd61843-47ed-430b-bca8-087060f81b39",
   "metadata": {},
   "source": [
    "Q5. In a machine learning project, you have a dataset with 1000 rows and 5 columns. Two of the columns\n",
    "are categorical, and the remaining three columns are numerical. If you were to use nominal encoding to\n",
    "transform the categorical data, how many new columns would be created? Show your calculations.\n",
    "\n",
    "Ans. If we use nominal encoding for the categorical columns, we do not create additional columns; instead, we replace each categorical column with a single column containing integer values.\n",
    "\n",
    "Rows: 1000\n",
    "\n",
    "Columns: 5 (2 categorical, 3 numerical)\n",
    "\n",
    "Nominal encoding assigns a unique integer to each category within a categorical column. This means that each categorical column is replaced with a single new column of integers.\n",
    "\n",
    "Since nominal encoding replaces each categorical column with a single integer column, the number of new columns created by nominal encoding is equal to the number of categorical columns.\n",
    "\n",
    "Calculation:\n",
    "\n",
    "Number of categorical columns: 2\n",
    "\n",
    "New columns created by nominal encoding: 2"
   ]
  },
  {
   "cell_type": "markdown",
   "id": "660bdb8b-7bb5-4435-9b52-4670d02703ee",
   "metadata": {},
   "source": [
    "Q6. You are working with a dataset containing information about different types of animals, including their\n",
    "species, habitat, and diet. Which encoding technique would you use to transform the categorical data into\n",
    "a format suitable for machine learning algorithms? Justify your answer.\n",
    "\n",
    "Ans. For a dataset with categorical features like species, habitat, and diet, use One-Hot Encoding. It converts each category into a binary vector, avoiding any ordinal assumptions and clearly representing each category."
   ]
  },
  {
   "cell_type": "markdown",
   "id": "7a3fec54-c70f-4fe0-a6dc-8b4c58e8cd32",
   "metadata": {},
   "source": [
    "Q7.You are working on a project that involves predicting customer churn for a telecommunications\n",
    "company. You have a dataset with 5 features, including the customer's gender, age, contract type,\n",
    "monthly charges, and tenure. Which encoding technique(s) would you use to transform the categorical\n",
    "data into numerical data? Provide a step-by-step explanation of how you would implement the encoding.\n",
    "\n",
    "Ans. For a dataset predicting customer churn with features like gender, age, contract type, monthly charges, and tenure, you should use One-Hot Encoding for the categorical features. Here's a step-by-step explanation:\n",
    "\n",
    "Identify Categorical Features:\n",
    "\n",
    "Gender (Nominal)\n",
    "\n",
    "Contract Type (Nominal)\n",
    "\n",
    "Apply One-Hot Encoding:\n",
    "\n",
    "Step-by-Step Implementation:\n",
    "\n",
    "Prepare the Data: Load the dataset into a DataFrame.\n",
    "\n",
    "Perform One-Hot Encoding: Use a library like pandas or scikit-learn to convert categorical features into binary columns.\n",
    "\n"
   ]
  },
  {
   "cell_type": "code",
   "execution_count": 1,
   "id": "d4e971ee-4be7-4d72-a20d-d7a58de1c73a",
   "metadata": {},
   "outputs": [
    {
     "name": "stdout",
     "output_type": "stream",
     "text": [
      "Encoded Data:\n",
      "    Age  Monthly Charges  Tenure  Gender_Male  Contract Type_One Year  \\\n",
      "0   25             70.5      12          1.0                     0.0   \n",
      "1   34             85.0      24          0.0                     1.0   \n",
      "2   45             90.0      36          0.0                     0.0   \n",
      "3   52             70.0      15          1.0                     0.0   \n",
      "\n",
      "   Contract Type_Two Year  \n",
      "0                     0.0  \n",
      "1                     0.0  \n",
      "2                     1.0  \n",
      "3                     0.0  \n"
     ]
    },
    {
     "name": "stderr",
     "output_type": "stream",
     "text": [
      "/opt/conda/lib/python3.10/site-packages/sklearn/preprocessing/_encoders.py:808: FutureWarning: `sparse` was renamed to `sparse_output` in version 1.2 and will be removed in 1.4. `sparse_output` is ignored unless you leave `sparse` to its default value.\n",
      "  warnings.warn(\n"
     ]
    }
   ],
   "source": [
    "import pandas as pd\n",
    "from sklearn.preprocessing import OneHotEncoder\n",
    "\n",
    "# Sample dataset\n",
    "data = pd.DataFrame({\n",
    "    'Gender': ['Male', 'Female', 'Female', 'Male'],\n",
    "    'Age': [25, 34, 45, 52],\n",
    "    'Contract Type': ['Month-to-Month', 'One Year', 'Two Year', 'Month-to-Month'],\n",
    "    'Monthly Charges': [70.5, 85.0, 90.0, 70.0],\n",
    "    'Tenure': [12, 24, 36, 15]\n",
    "})\n",
    "\n",
    "# Initialize OneHotEncoder\n",
    "encoder = OneHotEncoder(sparse=False, drop='first')  # drop='first' to avoid multicollinearity\n",
    "\n",
    "# Encode categorical features\n",
    "encoded_features = encoder.fit_transform(data[['Gender', 'Contract Type']])\n",
    "\n",
    "# Create DataFrame with encoded features\n",
    "encoded_df = pd.DataFrame(encoded_features, columns=encoder.get_feature_names_out(['Gender', 'Contract Type']))\n",
    "\n",
    "# Combine with numerical features\n",
    "final_data = pd.concat([data[['Age', 'Monthly Charges', 'Tenure']], encoded_df], axis=1)\n",
    "\n",
    "print(\"Encoded Data:\\n\", final_data)\n"
   ]
  },
  {
   "cell_type": "code",
   "execution_count": null,
   "id": "b4b93209-50b4-4689-8dbc-1f33f3cbfc94",
   "metadata": {},
   "outputs": [],
   "source": []
  }
 ],
 "metadata": {
  "kernelspec": {
   "display_name": "Python 3 (ipykernel)",
   "language": "python",
   "name": "python3"
  },
  "language_info": {
   "codemirror_mode": {
    "name": "ipython",
    "version": 3
   },
   "file_extension": ".py",
   "mimetype": "text/x-python",
   "name": "python",
   "nbconvert_exporter": "python",
   "pygments_lexer": "ipython3",
   "version": "3.10.8"
  }
 },
 "nbformat": 4,
 "nbformat_minor": 5
}
