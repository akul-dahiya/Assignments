{
 "cells": [
  {
   "cell_type": "markdown",
   "id": "eb4d0d34-21e2-46c7-a1ff-7f7d49fb77bd",
   "metadata": {},
   "source": [
    "Q1: What are the Probability Mass Function (PMF) and Probability Density Function (PDF)? Explain with\n",
    "an example.\n",
    "\n",
    "Ans. The Probability Mass Function (PMF) applies to discrete random variables. It gives the probability that a discrete random variable X is exactly equal to some value x. Mathematically, for a discrete random variable \n",
    "𝑋 , the PMF is denoted as P(X=x).\n",
    "Example: Let's consider the example of rolling a fair six-sided die. Here, \n",
    "𝑋\n",
    "X represents the outcome of the roll. The PMF for a fair six-sided die is:\n",
    "\n",
    "𝑃\n",
    "(\n",
    "𝑋\n",
    "=\n",
    "𝑥\n",
    ")\n",
    "=\n",
    "1\n",
    "6\n",
    "for \n",
    "𝑥\n",
    "=\n",
    "1\n",
    ",\n",
    "2\n",
    ",\n",
    "3\n",
    ",\n",
    "4\n",
    ",\n",
    "5\n",
    ",\n",
    "6\n",
    "P(X=x)= \n",
    "6\n",
    "1\n",
    "​\n",
    " for x=1,2,3,4,5,6\n",
    "\n",
    "Here, each outcome \n",
    "\n",
    "x (1, 2, 3, 4, 5, or 6) has an equal probability of \n",
    "1\n",
    "6\n",
    "6\n",
    "1\n",
    "​\n",
    " .\n",
    "\n"
   ]
  },
  {
   "cell_type": "markdown",
   "id": "9c4797b3-df8a-4cfe-a01c-e717ebeb485a",
   "metadata": {},
   "source": [
    "The Probability Density Function (PDF) applies to continuous random variables. It describes the relative likelihood of a continuous random variable X to take on a particular value. The PDF, denoted as 𝑓(𝑥).\n",
    "\n",
    "Example: Height of students in a classroom"
   ]
  },
  {
   "cell_type": "markdown",
   "id": "17f2e975-7fa2-4856-8e22-977de38d864d",
   "metadata": {},
   "source": [
    "Q2: What is Cumulative Density Function (CDF)? Explain with an example. Why CDF is used?\n",
    "\n",
    "Ans.  The Cumulative Distribution Function (CDF) is a fundamental concept in probability theory and statistics. It describes the probability that a random variable X takes on a value less than or equal to a given x. e CDF is denoted as F(x) and is defined as: F(x) = P(X≤x).\n",
    "\n",
    "Example: Let's consider an example of a discrete random variable X representing the outcome of rolling a fair six-sided die:\n",
    "\n",
    "The PMF of X is P(X=x) = 1/6 for x = 1,2,3,4,5,6\n",
    "\n",
    "So, the CDF F(x) for this example of rolling a fair six-sided die is: 1.\n",
    "\n",
    "The CDF is used for several reasons:\n",
    "\n",
    "1. It provides a convenient way to calculate the probability that a random variable takes on a value within a specified range.\n",
    "2.  It allows for the calculation of quantiles, which are points that divide a probability distribution into intervals with specified probabilities.\n",
    "3. It enables comparisons between different distributions by examining their shapes and properties through the CDF plots.\n",
    "4. In hypothesis testing and statistical inference, CDFs play a crucial role in determining critical values and making decisions based on observed data."
   ]
  },
  {
   "cell_type": "markdown",
   "id": "54ec4d0b-5742-49a8-9f50-cba927ae0575",
   "metadata": {},
   "source": [
    "Q3: What are some examples of situations where the normal distribution might be used as a model?\n",
    "Explain how the parameters of the normal distribution relate to the shape of the distribution.\n",
    "\n",
    "Ans. The normal distribution, also known as the Gaussian distribution, is one of the most important distributions in statistics and is widely used to model many natural phenomena and measurements. Here are some examples of situations where the normal distribution might be used:\n",
    "\n",
    "1. The distribution of human heights tends to follow a normal distribution with parameters such as mean and standard deviation.\n",
    "2. weights of individuals within certain populations often approximate a normal distribution.\n",
    "3. Errors in measurements due to various factors like instrument precision, environmental conditions, etc., often follow a normal distribution.\n",
    "4. Scores on standardized tests often follow a normal distribution among a large population.\n",
    "5. Traits like IQ scores, reaction times, and personality dimensions can often be described by a normal distribution.\n",
    "\n",
    "Relationship to the Shape of the Distribution:\n",
    "\n",
    "Shifting the mean to the right or left changes the central tendency of the distribution. A larger mean shifts the distribution to the right, while a smaller mean shifts it to the left.\n",
    "\n",
    "Increasing the standard deviation spreads out the distribution, making it wider and flatter. Decreasing the standard deviation makes the distribution narrower and taller, concentrating more values around the mean."
   ]
  },
  {
   "cell_type": "markdown",
   "id": "2d65aeb5-6a3a-4112-82c6-b8494d2e4d71",
   "metadata": {},
   "source": [
    "Q4: Explain the importance of Normal Distribution. Give a few real-life examples of Normal\n",
    "Distribution.\n",
    "\n",
    "Ans. The Normal Distribution, also known as the Gaussian distribution, is of paramount importance in statistics and various fields due to its properties and widespread applicability. Here’s why the Normal Distribution is crucial and some real-life examples where it is observed:\n",
    "\n",
    "Importance of Normal Distribution:\n",
    "\n",
    "1. One of the fundamental reasons for the importance of the Normal Distribution is the Central Limit Theorem. It states that the distribution of the sum (or average) of a large number of independent, identically distributed random variables approaches a normal distribution, regardless of the original distribution of the variables. This theorem underpins much of statistical inference and hypothesis testing.\n",
    "2. : In statistics, many parametric tests and methods (such as Z-tests, t-tests, ANOVA, regression analysis) assume normality or work best when data approximate a normal distribution. This simplifies calculations and enhances the reliability of statistical conclusions.\n",
    "3. Many natural and human-made phenomena can be approximated by the Normal Distribution due to its properties of symmetry, centrality, and the way it describes the spread of data.\n",
    "\n",
    "Real-Life Examples of Normal Distribution:\n",
    "\n",
    "1. The distribution of human heights tends to follow a normal distribution with parameters such as mean and standard deviation.\n",
    "2. weights of individuals within certain populations often approximate a normal distribution.\n",
    "3. Errors in measurements due to various factors like instrument precision, environmental conditions, etc., often follow a normal distribution.\n",
    "4. Scores on standardized tests often follow a normal distribution among a large population.\n",
    "5. Traits like IQ scores, reaction times, and personality dimensions can often be described by a normal distribution."
   ]
  },
  {
   "cell_type": "markdown",
   "id": "08a9b382-ee99-4878-a282-32f893df8449",
   "metadata": {},
   "source": [
    "Q5 What is Bernaulli Distribution? Give an Example. What is the difference between Bernoulli\n",
    "Distribution and Binomial Distribution?\n",
    "\n",
    "Ans. Binomial Distribution:\n",
    "Definition: The Binomial distribution describes the number of successes k in a fixed number n of independent Bernoulli trials, each with probability \n",
    "p of success.\n",
    "Parameters: It has two parameters: \n",
    "n (number of trials) and p (probability of success in each trial).\n",
    "\n",
    "Example: Tossing a coin 10 times\n",
    "\n",
    "Difference betweeen Bernoulli Distribution and Binomial Distribution:\n",
    "\n",
    "Bernoulli: Describes the outcome of a single trial.\n",
    "Binomial: Describes the sum of outcomes over multiple independent trials.\n",
    "\n",
    "Bernoulli: Has one parameter p, the probability of success in a single trial.\n",
    "Binomial: Has two parameters n (number of trials) and p (probability of success in each trial).\n",
    "\n",
    "Bernoulli: Used for situations where there are only two possible outcomes (success or failure) in a single trial.\n",
    "Binomial: Used when interested in the number of successes in a fixed number of independent trials."
   ]
  },
  {
   "cell_type": "markdown",
   "id": "fa7efef6-7aee-40d1-b658-f1e1e139d8df",
   "metadata": {},
   "source": [
    "Q6. Consider a dataset with a mean of 50 and a standard deviation of 10. If we assume that the dataset\n",
    "is normally distributed, what is the probability that a randomly selected observation will be greater\n",
    "than 60? Use the appropriate formula and show your calculations.\n",
    "\n",
    "Ans. First, we standardize the value 60 using the formula for standardization:\n",
    "\n",
    "Z = (X - u)/standard devation\n",
    "z = (60-50)/10 = 1\n",
    "We need to find P(X>60), which is equivalent to P(Z>1) for the standard normal distribution.\n",
    "\n",
    "The cumulative probability for Z=1 in the standard normal distribution table or using a calculator is approximately 0.8413.\n",
    "\n",
    "Therefore, the probability that a randomly selected observation from this dataset will be greater than 60 is 0.1587."
   ]
  },
  {
   "cell_type": "markdown",
   "id": "fa33898c-e0e4-40fb-a88d-fdf50c24fb90",
   "metadata": {},
   "source": [
    "Q7: Explain uniform Distribution with an example.\n",
    "\n",
    "Ans. The uniform distribution is a probability distribution where every possible outcome of a random variable is equally likely over a specified range. In simpler terms, it describes a situation where all outcomes within a given interval are equally probable.\n",
    "\n",
    "Example: Consider a scenario where a fair six-sided die is rolled. The outcome, representing the number on the upper face of the die, follows a uniform distribution because each face (1 through 6) has an equal probability of occurring.\n"
   ]
  },
  {
   "cell_type": "markdown",
   "id": "171339c3-bb26-4771-ae30-3db32a4a9668",
   "metadata": {},
   "source": [
    "Q8: What is the z score? State the importance of the z score.\n",
    "\n",
    "Ans. The z-score, also known as the standard score, is a measure of how many standard deviations a data point is away from the mean of a dataset. It's a standardized way to compare individual data points to the mean of the dataset and assess their relative position. \n",
    "\n",
    "Importance of the z score:\n",
    "1. Z-scores standardize data, making it easier to compare scores from different datasets that may have different means and standard deviations.\n",
    "2. A z-score indicates how many standard deviations a data point is above or below the mean. A positive z-score indicates that the data point is above the mean, while a negative z-score indicates it is below the mean.\n",
    "3. Z-scores help in normalizing data distributions, which is useful in statistical analyses and hypothesis testing where assumptions of normality are important.\n",
    "4. Z-scores can help identify outliers in data. Data points with z-scores significantly greater than or less than zero (typically beyond ±3) may be considered outliers.\n",
    "5. Z-scores are often used to compute probabilities in the standard normal distribution (where mean μ=0 and standard deviation σ=1). This is useful in determining the likelihood of observing a particular value or range of values in a normal distribution."
   ]
  },
  {
   "cell_type": "markdown",
   "id": "ea5d607e-5e1a-4da4-950f-98c95e89fafc",
   "metadata": {},
   "source": [
    "Q9: What is Central Limit Theorem? State the significance of the Central Limit Theorem.\n",
    "\n",
    "Ans. The Central limit theroem stats that the sampling distribution of the mean will be normally distributed, as long as the sample size is large enough. Regardless of whether the population has  a normal, Poission, binomial or any other distribution the sampling disrtibution of the mean will be normal.\n",
    "\n",
    "Significance of the Central Limit Theorem:\n",
    "1. The CLT forms the basis for many statistical methods and tests. It allows us to use the properties of the normal distribution to make inferences about population parameters (e.g., constructing confidence intervals, hypothesis testing).\n",
    "2. In practice, many real-world data sets are not normally distributed. However, the CLT assures us that as long as the sample size is sufficiently large, the distribution of sample means will approximate a normal distribution, making statistical analysis feasible.\n",
    "3. It is crucial in quality control and process improvement, where understanding the distribution of sample means helps in decision-making and ensuring consistency.\n",
    "4. Provides a reliable method to approximate probabilities and understand the behavior of data, even when the population distribution is unknown or non-normal."
   ]
  },
  {
   "cell_type": "markdown",
   "id": "0713e0da-e3c4-4000-832e-5a138993719a",
   "metadata": {},
   "source": [
    "Q10: State the assumptions of the Central Limit Theorem.\n",
    "\n",
    "Ans. 1. The samples drawn from the population must be independent of each other.\n",
    "2. Each sample should be drawn from the same population and have the same probability distribution.\n",
    "3. The population from which samples are drawn must have a finite mean μ and a finite variance σ^2. \n",
    "4. This ensures that the population distribution has well-defined central tendency and variability.\n",
    "5. The population distribution should not have heavy tails or be heavily skewed.\n",
    "6. Heavy-tailed distributions (e.g., Cauchy distribution) do not converge to normal distributions as quickly as lighter-tailed distributions do.\n"
   ]
  },
  {
   "cell_type": "code",
   "execution_count": null,
   "id": "f2837669-e5a5-4b6e-9ef4-d1531b110b5d",
   "metadata": {},
   "outputs": [],
   "source": []
  }
 ],
 "metadata": {
  "kernelspec": {
   "display_name": "Python 3 (ipykernel)",
   "language": "python",
   "name": "python3"
  },
  "language_info": {
   "codemirror_mode": {
    "name": "ipython",
    "version": 3
   },
   "file_extension": ".py",
   "mimetype": "text/x-python",
   "name": "python",
   "nbconvert_exporter": "python",
   "pygments_lexer": "ipython3",
   "version": "3.10.8"
  }
 },
 "nbformat": 4,
 "nbformat_minor": 5
}
