{
 "cells": [
  {
   "cell_type": "markdown",
   "id": "8777c40e-ec4e-4f7d-aefa-c40598039624",
   "metadata": {},
   "source": [
    "Q1. What are the three measures of central tendency?\n",
    "\n",
    "Ans. The three measures of central tendency are mean, median and mode."
   ]
  },
  {
   "cell_type": "markdown",
   "id": "195e1bbc-86c4-4270-b70a-1141a8a6ae22",
   "metadata": {},
   "source": [
    "Q2. What is the difference between the mean, median, and mode? How are they used to measure the\n",
    "central tendency of a dataset?\n",
    "\n",
    "Ans:  The mean is the arithmetic average of a dataset. It is calculated by summing all the numbers in the dataset and then dividing by the count of numbers. The mean is useful when you want to find the average value of a dataset. However, it can be influenced by extreme values (outliers), which can skew the result.\n",
    "\n",
    "The median is the middle value in a dataset when the numbers are arranged in ascending or descending order. If there is an even number of observations, the median is the average of the two middle numbers. The median is useful for skewed distributions or when there are outliers, as it is not affected by extreme values. It provides a better measure of central tendency for such datasets.\n",
    "\n",
    "The mode is the value that appears most frequently in a dataset. A dataset may have one mode (unimodal), more than one mode (bimodal or multimodal), or no mode at all if no number repeats.\n",
    "\n",
    "The mode is particularly useful for categorical data where you want to know which is the most common category. It can also be used for numerical data to identify the most frequent value."
   ]
  },
  {
   "cell_type": "markdown",
   "id": "753ea14e-3465-49c3-ae57-36f0df3e6366",
   "metadata": {},
   "source": [
    "Q3. Measure the three measures of central tendency for the given height data:\n",
    "[178,177,176,177,178.2,178,175,179,180,175,178.9,176.2,177,172.5,178,176.5]\n",
    "\n"
   ]
  },
  {
   "cell_type": "code",
   "execution_count": 1,
   "id": "3ef20eb4-7a38-446e-ae58-9aba38fe3432",
   "metadata": {},
   "outputs": [],
   "source": [
    "height = [178,177,176,177,178.2,178,175,179,180,175,178.9,176.2,177,172.5,178,176.5]\n"
   ]
  },
  {
   "cell_type": "code",
   "execution_count": 4,
   "id": "cf255f74-2b85-4b06-8631-559a1b571c0d",
   "metadata": {},
   "outputs": [],
   "source": [
    "import numpy as np"
   ]
  },
  {
   "cell_type": "code",
   "execution_count": 6,
   "id": "de9654ab-d1c0-4251-9900-aff3a2f7a4bb",
   "metadata": {},
   "outputs": [
    {
     "data": {
      "text/plain": [
       "177.01875"
      ]
     },
     "execution_count": 6,
     "metadata": {},
     "output_type": "execute_result"
    }
   ],
   "source": [
    "np.mean(height)"
   ]
  },
  {
   "cell_type": "code",
   "execution_count": 7,
   "id": "630d191f-f7c3-49bf-aac6-7853c9ce8a44",
   "metadata": {},
   "outputs": [
    {
     "data": {
      "text/plain": [
       "177.0"
      ]
     },
     "execution_count": 7,
     "metadata": {},
     "output_type": "execute_result"
    }
   ],
   "source": [
    "np.median(height)"
   ]
  },
  {
   "cell_type": "code",
   "execution_count": 9,
   "id": "11d897b3-f7a3-42b0-a87b-6d590d539664",
   "metadata": {},
   "outputs": [
    {
     "name": "stdout",
     "output_type": "stream",
     "text": [
      "Requirement already satisfied: scipy in /opt/conda/lib/python3.10/site-packages (1.9.3)\n",
      "Requirement already satisfied: numpy<1.26.0,>=1.18.5 in /opt/conda/lib/python3.10/site-packages (from scipy) (1.23.5)\n",
      "Note: you may need to restart the kernel to use updated packages.\n"
     ]
    }
   ],
   "source": [
    "pip install scipy"
   ]
  },
  {
   "cell_type": "code",
   "execution_count": 10,
   "id": "07d91eb2-25b0-400b-834c-36901fdb53fe",
   "metadata": {},
   "outputs": [
    {
     "name": "stderr",
     "output_type": "stream",
     "text": [
      "/tmp/ipykernel_77/3846226869.py:2: FutureWarning: Unlike other reduction functions (e.g. `skew`, `kurtosis`), the default behavior of `mode` typically preserves the axis it acts along. In SciPy 1.11.0, this behavior will change: the default value of `keepdims` will become False, the `axis` over which the statistic is taken will be eliminated, and the value None will no longer be accepted. Set `keepdims` to True or False to avoid this warning.\n",
      "  stats.mode(height)\n"
     ]
    },
    {
     "data": {
      "text/plain": [
       "ModeResult(mode=array([177.]), count=array([3]))"
      ]
     },
     "execution_count": 10,
     "metadata": {},
     "output_type": "execute_result"
    }
   ],
   "source": [
    "from scipy import stats\n",
    "stats.mode(height)"
   ]
  },
  {
   "cell_type": "markdown",
   "id": "1ae3a997-e021-4093-876b-6c1612bac257",
   "metadata": {},
   "source": [
    "Q4. Find the standard deviation for the given data:\n",
    "[178,177,176,177,178.2,178,175,179,180,175,178.9,176.2,177,172.5,178,176.5]"
   ]
  },
  {
   "cell_type": "code",
   "execution_count": 11,
   "id": "2b9ad875-45bf-475b-b94a-9ec5b4a38a31",
   "metadata": {},
   "outputs": [],
   "source": [
    "data = [178,177,176,177,178.2,178,175,179,180,175,178.9,176.2,177,172.5,178,176.5]"
   ]
  },
  {
   "cell_type": "code",
   "execution_count": 12,
   "id": "74d4fe31-7267-4a7b-b45c-cad159116a65",
   "metadata": {},
   "outputs": [
    {
     "data": {
      "text/plain": [
       "1.7885814036548633"
      ]
     },
     "execution_count": 12,
     "metadata": {},
     "output_type": "execute_result"
    }
   ],
   "source": [
    "np.std(data)"
   ]
  },
  {
   "cell_type": "markdown",
   "id": "c30c2998-90e5-457c-983a-008593156422",
   "metadata": {},
   "source": [
    "Q5. How are measures of dispersion such as range, variance, and standard deviation used to describe\n",
    "the spread of a dataset? Provide an example.\n",
    "\n",
    "Ans. Measures of dispersion, such as range, variance, and standard deviation, are used to describe the spread or variability of a dataset. They help to understand how much the data values deviate from the central tendency (mean, median, or mode) and from each other. Here’s how they are used:\n",
    "\n",
    "The range is the difference between the maximum and minimum values in a dataset.\n",
    "The range provides a quick sense of the spread of the data, but it only considers the two extreme values and can be influenced by outliers.\n",
    " \n",
    "The variance measures the average squared deviation of each data point from the mean. It gives an idea of how spread out the data points are. Variance gives a measure of how data points vary from the mean. A high variance indicates that data points are spread out over a wide range, while a low variance indicates that data points are close to the mean.\n",
    "\n",
    "The standard deviation is the square root of the variance. It is expressed in the same units as the data, making it more interpretable.\n",
    "Standard deviation is widely used to quantify the amount of variation or dispersion in a set of data values. It is easier to interpret than variance because it is in the same unit as the data.\n",
    "Example\n",
    "Consider the dataset: [2, 4, 6, 8, 10]\n",
    "\n",
    "Range:\n",
    "\n",
    "Max = 10\n",
    "Min = 2\n",
    "Range = 10 - 2 = 8\n",
    "\n",
    "Variance:\n",
    "\n",
    "Mean (\n",
    "𝑥\n",
    "ˉ\n",
    "x\n",
    "ˉ\n",
    " ) = \n",
    "2\n",
    "+\n",
    "4\n",
    "+\n",
    "6\n",
    "+\n",
    "8\n",
    "+\n",
    "10\n",
    "5\n",
    "=\n",
    "6\n",
    "5\n",
    "2+4+6+8+10\n",
    "​\n",
    " =6\n",
    "Squared deviations from the mean:\n",
    "(2 - 6)² = 16\n",
    "(4 - 6)² = 4\n",
    "(6 - 6)² = 0\n",
    "(8 - 6)² = 4\n",
    "(10 - 6)² = 16\n",
    "Variance (\n",
    "𝑠\n",
    "2\n",
    "s \n",
    "2\n",
    " ) for a sample = \n",
    "16\n",
    "+\n",
    "4\n",
    "+\n",
    "0\n",
    "+\n",
    "4\n",
    "+\n",
    "16\n",
    "5\n",
    "−\n",
    "1\n",
    "=\n",
    "40\n",
    "4\n",
    "=\n",
    "10\n",
    "5−1\n",
    "16+4+0+4+16\n",
    "​\n",
    " = \n",
    "4\n",
    "40\n",
    "​\n",
    " =10\n",
    "Standard Deviation:\n",
    "\n",
    "Standard deviation (\n",
    "𝑠\n",
    "s) = \n",
    "10\n",
    "≈\n",
    "3.16\n",
    "10\n",
    "​\n",
    " ≈3.16"
   ]
  },
  {
   "cell_type": "markdown",
   "id": "134ea5d7-5c87-4853-b080-3af5cbe771b3",
   "metadata": {},
   "source": [
    "Q6. What is a Venn diagram?\n",
    "\n",
    "Ans. A Venn diagram is a graphical representation used to illustrate the relationships between different sets. It consists of closed curves, usually circles, where each circle represents a set. The positions and overlaps of these circles visually depict the relationships between the sets, such as intersections, unions, and differences."
   ]
  },
  {
   "cell_type": "markdown",
   "id": "6157ef2d-6329-4b19-aafb-6012ed03e3c7",
   "metadata": {},
   "source": [
    "Q7. For the two given sets A = (2,3,4,5,6,7) & B = (0,2,6,8,10). Find:\n",
    "\n",
    "(i) A intersection B -- (2,6)\n",
    "\n",
    "(ii) A ⋃ B -- (0,2,3,4,5,6,7,8,9,10)"
   ]
  },
  {
   "cell_type": "markdown",
   "id": "62edcc10-1368-447a-9161-e32d73cc504a",
   "metadata": {},
   "source": [
    "Q8. What do you understand about skewness in data?\n",
    "\n",
    "Ans. Skewness in data refers to the asymmetry in the distribution of values. It indicates the direction and degree to which a dataset deviates from a normal distribution. Skewness can be positive, negative, or zero, and it provides insights into the shape of the distribution of the data."
   ]
  },
  {
   "cell_type": "markdown",
   "id": "9e41a051-3fa2-41b5-872d-dafc8c9c1632",
   "metadata": {},
   "source": [
    "Q9. If a data is right skewed then what will be the position of median with respect to mean?\n",
    "\n",
    "Ans. When a dataset is right skewed (positively skewed), the distribution has a longer tail on the right side. This skewness affects the positions of the mean and median. In a right-skewed distribution:\n",
    "\n",
    "The mean is typically greater than the median and the median lies in between mean and mode.\n"
   ]
  },
  {
   "cell_type": "markdown",
   "id": "4f92aa72-ae5f-45b8-b799-a41eb398934b",
   "metadata": {},
   "source": [
    "Q10. Explain the difference between covariance and correlation. How are these measures used in\n",
    "statistical analysis?\n",
    "\n",
    "Ans. Covariance measures the degree to which two variables change together. It indicates the direction of the linear relationship between variables.\n",
    "\n",
    "Correlation measures both the strength and direction of the linear relationship between two variables. It is a standardized form of covariance and provides a dimensionless value."
   ]
  },
  {
   "cell_type": "markdown",
   "id": "86ab5b43-5c4e-49e1-a1a2-a060b4334456",
   "metadata": {},
   "source": [
    "Q11. What is the formula for calculating the sample mean? Provide an example calculation for a\n",
    "dataset.\n",
    "\n",
    "Ans. The sample mean, often simply referred to as the mean, is a measure of central tendency that represents the average value of a dataset. It is calculated by summing all the values in the dataset and dividing by the number of observations in the dataset."
   ]
  },
  {
   "cell_type": "code",
   "execution_count": 12,
   "id": "d2c7a6de-8c46-400f-b70a-b9be62d02ff2",
   "metadata": {},
   "outputs": [],
   "source": [
    "import numpy as np\n",
    "import seaborn as sns\n",
    "df = sns.load_dataset('tips')\n"
   ]
  },
  {
   "cell_type": "code",
   "execution_count": 13,
   "id": "c1951047-5615-444d-9df2-5345018e1cbb",
   "metadata": {},
   "outputs": [
    {
     "name": "stderr",
     "output_type": "stream",
     "text": [
      "/opt/conda/lib/python3.10/site-packages/numpy/core/fromnumeric.py:3430: FutureWarning: In a future version, DataFrame.mean(axis=None) will return a scalar mean over the entire DataFrame. To retain the old behavior, use 'frame.mean(axis=0)' or just 'frame.mean()'\n",
      "  return mean(axis=axis, dtype=dtype, out=out, **kwargs)\n",
      "/opt/conda/lib/python3.10/site-packages/numpy/core/fromnumeric.py:3430: FutureWarning: The default value of numeric_only in DataFrame.mean is deprecated. In a future version, it will default to False. In addition, specifying 'numeric_only=None' is deprecated. Select only valid columns or specify the value of numeric_only to silence this warning.\n",
      "  return mean(axis=axis, dtype=dtype, out=out, **kwargs)\n"
     ]
    },
    {
     "data": {
      "text/plain": [
       "total_bill    19.785943\n",
       "tip            2.998279\n",
       "size           2.569672\n",
       "dtype: float64"
      ]
     },
     "execution_count": 13,
     "metadata": {},
     "output_type": "execute_result"
    }
   ],
   "source": [
    "np.mean(df)"
   ]
  },
  {
   "cell_type": "markdown",
   "id": "0e23a71d-09a6-4547-87b7-1af729f7fed5",
   "metadata": {},
   "source": [
    "Q12. For a normal distribution data what is the relationship between its measure of central tendency?\n",
    "\n",
    "Ans For a normal distribution, which is symmetric and bell-shaped, the measures of central tendency—mean, median, and mode—are related in the following way:\n",
    "\n",
    "Mean (μ): The mean of a normal distribution is located at the center of the distribution. It is equal to the median and the mode.\n",
    "\n",
    "Median: The median of a normal distribution is also located at the center, which is equal to the mean and mode.\n",
    "\n",
    "Mode: The mode of a normal distribution is the highest point on the distribution, where the peak occurs. It is equal to the mean and median.\n",
    "\n",
    "Mean = Mode = Median"
   ]
  },
  {
   "cell_type": "markdown",
   "id": "f67f0995-1261-4237-b54c-047d18ae3187",
   "metadata": {},
   "source": [
    "Q13. How is covariance different from correlation?\n",
    "\n",
    "Ans Covariance measures directional relationship between variables while correlation measures strength and direction of linear relationship. Covarience range is from -infinity to +infinity, while correlation range is from -1 to 1. In covarience not standardized, depends on variable units while in correlation Standardized, easier to interpret and compare."
   ]
  },
  {
   "cell_type": "markdown",
   "id": "c8dd3699-c2ef-4172-a3ca-55acc054c878",
   "metadata": {},
   "source": [
    "Q14. How do outliers affect measures of central tendency and dispersion? Provide an example.\n",
    "\n",
    "Ans. Measures of Central Tendency:\n",
    "\n",
    "Mean: Outliers can pull the mean towards them, especially if they are extreme values.\n",
    "Example: Consider the dataset {10, 20, 30, 40, 50, 200}. The mean without the outlier is (10+20+30+40+50)/5=30. With the outliers the mean is (10+20+30+40+50+200)/60 = 50.\n",
    "\n",
    "Median: Outliers have minimal impact on the median since it is not sensitive to extreme values.\n",
    "Example: In the dataset {10, 20, 30, 40, 50, 200}, the median remains 35, regardless of the outlier.\n",
    "\n",
    "Mode: Outliers do not affect the mode, as it is the most frequently occurring value in the dataset.\n",
    "Example: For {10, 20, 30, 40, 50, 200}, the mode remains 10, 20, 30, 40, or 50, depending on whether any values are repeated.\n",
    "\n",
    "Dispersion:\n",
    "\n",
    "Range:\n",
    "\n",
    "Outliers can substantially increase the range, as it is sensitive to extreme values.\n",
    "Example: In {10, 20, 30, 40, 50, 200}, the range is 200−10=190\n",
    "200−10=190.\n",
    "\n",
    "Variance and Standard Deviation:\n",
    "\n",
    "Outliers increase variance and standard deviation because these measures are influenced by the distance of each data point from the mean.\n",
    "Example: For the dataset {10, 20, 30, 40, 50, 200}, the standard deviation without the outlier is approximately 57.5. With the outlier, it increases to approximately 70.7.\n"
   ]
  },
  {
   "cell_type": "code",
   "execution_count": null,
   "id": "43fc59f4-5dfc-41b8-8b16-1940ad1831d8",
   "metadata": {},
   "outputs": [],
   "source": []
  }
 ],
 "metadata": {
  "kernelspec": {
   "display_name": "Python 3 (ipykernel)",
   "language": "python",
   "name": "python3"
  },
  "language_info": {
   "codemirror_mode": {
    "name": "ipython",
    "version": 3
   },
   "file_extension": ".py",
   "mimetype": "text/x-python",
   "name": "python",
   "nbconvert_exporter": "python",
   "pygments_lexer": "ipython3",
   "version": "3.10.8"
  }
 },
 "nbformat": 4,
 "nbformat_minor": 5
}
