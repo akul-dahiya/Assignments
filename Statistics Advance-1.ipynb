{
 "cells": [
  {
   "cell_type": "markdown",
   "id": "5e64f88d-c310-4dfc-9e5f-9bc31f21269f",
   "metadata": {},
   "source": [
    "Q1. What is the Probability density function?\n",
    "\n",
    "Ans. A Probability Density Function (PDF) is a function that describes the likelihood of a random variable to take on a particular value.  The PDF is fundamental in probability theory and statistics, particularly for continuous random variables. Its distribution is denoted by pdf."
   ]
  },
  {
   "cell_type": "markdown",
   "id": "c2355d98-ba45-4eeb-b9cd-3d99e5974a6f",
   "metadata": {},
   "source": [
    "Q2. What are the types of Probability distribution?\n",
    "\n",
    "Ans. There are 6 types of probability distribution:\n",
    "1. Normal/Guassian Distribution\n",
    "2. Bernouli Distribution\n",
    "3. Uniform Distribution\n",
    "4. Poisson Distribution\n",
    "5. Log normal Distribution\n",
    "6. Binomial Distribution"
   ]
  },
  {
   "cell_type": "markdown",
   "id": "20240a10-adfc-4d83-a2f3-4c26464c6e00",
   "metadata": {},
   "source": [
    "Q3. Write a Python function to calculate the probability density function of a normal distribution with\n",
    "given mean and standard deviation at a given point.\n",
    "\n",
    "Ans. "
   ]
  },
  {
   "cell_type": "code",
   "execution_count": 2,
   "id": "70e14375-971a-4aa9-8f3a-dc17989de4d6",
   "metadata": {},
   "outputs": [
    {
     "name": "stdout",
     "output_type": "stream",
     "text": [
      "The PDF of the normal distribution at x = 0 with mean = 0 and sigma = 1 is 0.3989422804014327\n"
     ]
    }
   ],
   "source": [
    "import math\n",
    "\n",
    "def normal_pdf(x, mu, sigma):\n",
    "    \"\"\"\n",
    "    Calculate the probability density function of a normal distribution\n",
    "    at a given point x with mean mu and standard deviation sigma.\n",
    "\n",
    "    Parameters:\n",
    "    x (float): The point at which to evaluate the PDF.\n",
    "    mu (float): The mean of the normal distribution.\n",
    "    sigma (float): The standard deviation of the normal distribution.\n",
    "\n",
    "    Returns:\n",
    "    float: The value of the PDF at point x.\n",
    "    \"\"\"\n",
    "    coefficient = 1 / (math.sqrt(2 * math.pi) * sigma)\n",
    "    exponent = -((x - mu) ** 2) / (2 * sigma ** 2)\n",
    "    return coefficient * math.exp(exponent)\n",
    "\n",
    "# Example usage\n",
    "x = 0\n",
    "mu = 0\n",
    "sigma = 1\n",
    "pdf_value = normal_pdf(x, mu, sigma)\n",
    "print(f\"The PDF of the normal distribution at x = {x} with mean = {mu} and sigma = {sigma} is {pdf_value}\")\n"
   ]
  },
  {
   "cell_type": "markdown",
   "id": "dc520bf1-2e0d-4f07-aaef-11295ef5caad",
   "metadata": {},
   "source": [
    "Q4. What are the properties of Binomial distribution? Give two examples of events where binomial\n",
    "distribution can be applied.\n",
    "\n",
    "Ans The properties \n",
    "\n",
    "Binomial distribution is as following:\n",
    "\n",
    "1. The experiment consist of fix number of trials\n",
    "2. Each trial have exactly two outcomes: success or failure\n",
    "3. The probability of success is denoted by p and probability of failure is denoted by p-1.\n",
    "4. The trials are independent, meaning the outcome of one trial does not affect the outcome of another.\n",
    "\n",
    "Example : Tossing a coin 10 times , \n",
    "          Rolling a dice 6 times\n"
   ]
  },
  {
   "cell_type": "markdown",
   "id": "57612794-bf81-4480-bb79-0dee5b3e4a19",
   "metadata": {},
   "source": [
    "Q5. Generate a random sample of size 1000 from a binomial distribution with probability of success 0.4\n",
    "and plot a histogram of the results using matplotlib.\n",
    "\n",
    "Ans"
   ]
  },
  {
   "cell_type": "code",
   "execution_count": 6,
   "id": "115f0675-cd5d-4de0-b150-52b63eb466a5",
   "metadata": {},
   "outputs": [
    {
     "data": {
      "image/png": "[encoded data removed]",
      "text/plain": [
       "<Figure size 640x480 with 1 Axes>"
      ]
     },
     "metadata": {},
     "output_type": "display_data"
    }
   ],
   "source": [
    "import numpy as np\n",
    "import matplotlib.pyplot as plt\n",
    "\n",
    "n = 10 #No. of trials\n",
    "p = 0.4 #probability of success\n",
    "sample = 1000\n",
    "np.random.binomial(n,p,sample)\n",
    "\n",
    "plt.hist(sample, bins=np.arange(0, n+2)-0.5, edgecolor='black', alpha=0.7)\n",
    "plt.title('Histogram of Binomial Distribution (n=10, p=0.4)')\n",
    "plt.xlabel('Number of successes')\n",
    "plt.ylabel('Frequency')\n",
    "plt.xticks(range(n+1))\n",
    "plt.grid(axis='y', linestyle='--', alpha=0.7)\n",
    "plt.show()"
   ]
  },
  {
   "cell_type": "markdown",
   "id": "6b8a1620-c43c-4a2b-88ce-855e4cf58a2c",
   "metadata": {},
   "source": [
    "Q6. Write a Python function to calculate the cumulative distribution function of a Poisson distribution\n",
    "with given mean at a given point.\n",
    "\n",
    "Ans. The python function to calcutate the cumulative distribution function of a poissson distribution is:\n"
   ]
  },
  {
   "cell_type": "code",
   "execution_count": 7,
   "id": "0a26a891-967c-4716-8363-2c9e953068c8",
   "metadata": {},
   "outputs": [
    {
     "name": "stdout",
     "output_type": "stream",
     "text": [
      "The CDF of the Poisson distribution at k = 5 with lambda = 3 is 0.9160820579686966\n"
     ]
    }
   ],
   "source": [
    "import math\n",
    "\n",
    "def poisson_cdf(x,lam):\n",
    "    cdf = 0.0\n",
    "    for i in range(k + 1):\n",
    "        cdf += (lam ** i * math.exp(-lam)) / math.factorial(i)\n",
    "    return cdf\n",
    "\n",
    "# Example usage\n",
    "k = 5\n",
    "lam = 3\n",
    "cdf_value = poisson_cdf(k, lam)\n",
    "print(f\"The CDF of the Poisson distribution at k = {k} with lambda = {lam} is {cdf_value}\")\n",
    "    "
   ]
  },
  {
   "cell_type": "markdown",
   "id": "3c5768d6-616c-4936-bd53-37f1358b82a1",
   "metadata": {},
   "source": [
    "Q7. How Binomial distribution different from Poisson distribution?\n",
    "\n",
    "Ans. Binomial distribution is the number of successes in a fixed number of independent Bernoulli trials, each with the same probability of success While Poisson distribution is the number of events occurring in a fixed interval of time or space, given a known average rate and independence of events.\n",
    "\n",
    "In Binomial distribution Fixed number of trials, each trial is independent, constant probability of success, Situations with a fixed number of trials and binary outcomes (success/failure), while in Poisson distribution Events occur independently, constant average rate, events occur one at a time and Modeling the number of events in continuous intervals (time, space).\n"
   ]
  },
  {
   "cell_type": "markdown",
   "id": "5171d90f-05b0-4652-89a5-789a6c6f0b0e",
   "metadata": {},
   "source": [
    "Q8. Generate a random sample of size 1000 from a Poisson distribution with mean 5 and calculate the\n",
    "sample mean and variance.\n",
    "\n",
    "Ans."
   ]
  },
  {
   "cell_type": "code",
   "execution_count": 8,
   "id": "ece075c0-c8c3-40f9-816d-8ba86396ccdf",
   "metadata": {},
   "outputs": [
    {
     "name": "stdout",
     "output_type": "stream",
     "text": [
      "Sample Mean: 5.005\n",
      "Sample Variance: 5.154975\n"
     ]
    }
   ],
   "source": [
    "import numpy as np\n",
    "\n",
    "# Parameters for the Poisson distribution\n",
    "lambda_poisson = 5\n",
    "sample_size = 1000\n",
    "\n",
    "# Generate random sample\n",
    "sample = np.random.poisson(lambda_poisson, sample_size)\n",
    "\n",
    "# Calculate sample mean and variance\n",
    "sample_mean = np.mean(sample)\n",
    "sample_variance = np.var(sample)\n",
    "\n",
    "# Print the results\n",
    "print(f\"Sample Mean: {sample_mean}\")\n",
    "print(f\"Sample Variance: {sample_variance}\")\n"
   ]
  },
  {
   "cell_type": "markdown",
   "id": "ce112271-1114-4e8d-abd1-9ef1ecd92606",
   "metadata": {},
   "source": [
    "Q9. How mean and variance are related in Binomial distribution and Poisson distribution?\n",
    "\n",
    "Ans. "
   ]
  },
  {
   "cell_type": "markdown",
   "id": "27a6f4e7-fcdf-4feb-9aea-c692eaee0082",
   "metadata": {},
   "source": [
    "In both the Binomial and Poisson distributions, the mean and variance have specific relationships based on their parameters. Here is how they are related in each distribution:\n",
    "\n",
    "Binomial Distribution:\n",
    "\n",
    "For a Binomial distribution with parameters n (number of trials) and p (probability of success)\n",
    "\n",
    "The mean of the Binomial distribution is given by:\n",
    "mean = np\n",
    "\n",
    "The varience of the Binomial distribution is given by:\n",
    "var = npq\n",
    "\n",
    "Poisson Distribution:\n",
    "\n",
    "For Poisson Distribution with paremeter lambda = expected no. of events occur at every time interval\n",
    "\n",
    "The mean of the poisson distribution is given by:\n",
    "mean = lambda*t\n",
    "\n",
    "The varience of the poisson distribution is given by:\n",
    "var = lambda*t\n",
    "\n"
   ]
  },
  {
   "cell_type": "markdown",
   "id": "b5d65af6-a723-48d5-bacf-65209931723a",
   "metadata": {},
   "source": [
    "Q10. In normal distribution with respect to mean position, where does the least frequent data appear?\n",
    "\n",
    "Ans. In a normal distribution, the data points are symmetrically distributed around the mean. The least frequent data appears in the tails of the distribution, farthest from the mean. This is because the probability density decreases as you move away from the mean."
   ]
  },
  {
   "cell_type": "code",
   "execution_count": null,
   "id": "1f9b233e-8b03-4ed0-bb79-5a9ae914a5f9",
   "metadata": {},
   "outputs": [],
   "source": []
  }
 ],
 "metadata": {
  "kernelspec": {
   "display_name": "Python 3 (ipykernel)",
   "language": "python",
   "name": "python3"
  },
  "language_info": {
   "codemirror_mode": {
    "name": "ipython",
    "version": 3
   },
   "file_extension": ".py",
   "mimetype": "text/x-python",
   "name": "python",
   "nbconvert_exporter": "python",
   "pygments_lexer": "ipython3",
   "version": "3.10.8"
  }
 },
 "nbformat": 4,
 "nbformat_minor": 5
}
