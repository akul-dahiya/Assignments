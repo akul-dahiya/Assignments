{
 "cells": [
  {
   "cell_type": "markdown",
   "id": "f944d68b-685d-406c-aefa-655cc190edb8",
   "metadata": {},
   "source": [
    "Q1. What is the difference between Ordinal Encoding and Label Encoding? Provide an example of when you\n",
    "might choose one over the other.\n",
    "\n",
    "Ans. Ordinal Encoding and Label Encoding are both methods for converting categorical data into numerical format.\n",
    "\n",
    "Ordinal Encoding is chosen when the categorical feature has a meaningful order. For example, Education Level implies a progression or hierarchy.\n",
    "\n",
    "Label Encoding is chosen when the categorical feature has no inherent order. For example, Color categories have no natural ranking.\n",
    "\n",
    "Ordinal Encoding is used for ordered categories, while Label Encoding is used for unordered categories. Choose based on whether the categorical data has a meaningful sequence or not."
   ]
  },
  {
   "cell_type": "markdown",
   "id": "a96d3508-bddd-4863-9818-ee0fcb84ca51",
   "metadata": {},
   "source": [
    "Q2. Explain how Target Guided Ordinal Encoding works and provide an example of when you might use it in\n",
    "a machine learning project.\n",
    "\n",
    "Ans. \n",
    "Target Guided Ordinal Encoding replaces categorical values with the mean of the target variable for each category. This encoding reflects how the target variable varies across different categories.\n",
    "\n",
    "How It Works:\n",
    "\n",
    "Group by Category: Compute the mean of the target variable for each category.\n",
    "\n",
    "Replace Categories: Replace each category with its computed mean.\n",
    "\n",
    "Example:\n",
    "\n",
    "Calculate the average house price for each neighborhood:\n",
    "\n",
    "Neighborhood A: $300,000\n",
    "\n",
    "Neighborhood B: $250,000\n",
    "\n",
    "Neighborhood C: $350,000\n",
    "\n",
    "Replace neighborhood categories with these averages:\n",
    "\n",
    "Neighborhood A = 300,000\n",
    "\n",
    "Neighborhood B = 250,000\n",
    "\n",
    "Neighborhood C = 350,000\n",
    "\n"
   ]
  },
  {
   "cell_type": "markdown",
   "id": "7a651e2f-06c0-4431-acb6-ec067d18726b",
   "metadata": {},
   "source": [
    "Q3. Define covariance and explain why it is important in statistical analysis. How is covariance calculated?\n",
    "\n",
    "Ans. Covariance measures how two variables change together. It indicates the direction of their linear relationship:\n",
    "\n",
    "Positive Covariance: Both variables increase or decrease together.\n",
    "\n",
    "Negative Covariance: One variable increases while the other decreases.\n",
    "\n",
    "Importance in Statistical Analysis:\n",
    "\n",
    "Relationship Insight: Helps in understanding how two variables are related.\n",
    "\n",
    "Feature Selection: Useful in dimensionality reduction techniques like Principal Component Analysis (PCA).\n",
    "\n",
    "Portfolio Theory: In finance, it helps assess the risk and return of investments.\n",
    "\n",
    "Calculations:\n",
    "\n",
    "Covariance between two variables X and Y is calculated as:\n",
    "\n",
    "Cov(X,Y) =   \n",
    " i=1\n",
    " \n",
    "=∑ ((x_i - x')(y_i - y'))/(n-1\n",
    "\n",
    " n"
   ]
  },
  {
   "cell_type": "markdown",
   "id": "872f6f8d-4617-43f8-9033-2a24808b260b",
   "metadata": {},
   "source": [
    "Q4. For a dataset with the following categorical variables: Color (red, green, blue), Size (small, medium,\n",
    "large), and Material (wood, metal, plastic), perform label encoding using Python's scikit-learn library.\n",
    "Show your code and explain the output.\n",
    "\n",
    "Ans. "
   ]
  },
  {
   "cell_type": "code",
   "execution_count": 1,
   "id": "940f6c34-f404-43f2-a488-fdd79b1a7619",
   "metadata": {},
   "outputs": [
    {
     "name": "stdout",
     "output_type": "stream",
     "text": [
      "   Color  Size  Material\n",
      "0      2     2         2\n",
      "1      1     1         0\n",
      "2      0     0         1\n",
      "3      1     1         0\n",
      "4      2     2         2\n"
     ]
    }
   ],
   "source": [
    "import pandas as pd\n",
    "from sklearn.preprocessing import LabelEncoder\n",
    "\n",
    "# Sample dataset\n",
    "data = pd.DataFrame({\n",
    "    'Color': ['red', 'green', 'blue', 'green', 'red'],\n",
    "    'Size': ['small', 'medium', 'large', 'medium', 'small'],\n",
    "    'Material': ['wood', 'metal', 'plastic', 'metal', 'wood']\n",
    "})\n",
    "\n",
    "# Initialize LabelEncoders\n",
    "le_color = LabelEncoder()\n",
    "le_size = LabelEncoder()\n",
    "le_material = LabelEncoder()\n",
    "\n",
    "# Apply LabelEncoders to the respective columns\n",
    "data['Color'] = le_color.fit_transform(data['Color'])\n",
    "data['Size'] = le_size.fit_transform(data['Size'])\n",
    "data['Material'] = le_material.fit_transform(data['Material'])\n",
    "\n",
    "# Display the transformed dataset\n",
    "print(data)\n"
   ]
  },
  {
   "cell_type": "markdown",
   "id": "b041c85c-0489-43c9-ac44-7e6b5e916a1c",
   "metadata": {},
   "source": [
    "Q5. Calculate the covariance matrix for the following variables in a dataset: Age, Income, and Education\n",
    "level. Interpret the results.\n",
    "\n",
    "Ans."
   ]
  },
  {
   "cell_type": "code",
   "execution_count": 2,
   "id": "52baed51-6ddb-4b2b-a2cb-d24e985a339b",
   "metadata": {},
   "outputs": [
    {
     "name": "stdout",
     "output_type": "stream",
     "text": [
      "Covariance Matrix:\n",
      "                       Age       Income  Education Level\n",
      "Age                  62.5     125000.0             25.0\n",
      "Income           125000.0  250000000.0          50000.0\n",
      "Education Level      25.0      50000.0             10.0\n"
     ]
    }
   ],
   "source": [
    "import numpy as np\n",
    "import pandas as pd\n",
    "\n",
    "# Sample data\n",
    "data = {\n",
    "    'Age': [25, 30, 35, 40, 45],\n",
    "    'Income': [50000, 60000, 70000, 80000, 90000],\n",
    "    'Education Level': [16, 18, 20, 22, 24]\n",
    "}\n",
    "\n",
    "# Create DataFrame\n",
    "df = pd.DataFrame(data)\n",
    "\n",
    "# Calculate covariance matrix\n",
    "cov_matrix = df.cov()\n",
    "\n",
    "print(\"Covariance Matrix:\\n\", cov_matrix)\n"
   ]
  },
  {
   "cell_type": "markdown",
   "id": "07b70774-5452-4f23-bee9-bf33607ee82e",
   "metadata": {},
   "source": [
    "Q6. You are working on a machine learning project with a dataset containing several categorical\n",
    "variables, including \"Gender\" (Male/Female), \"Education Level\" (High School/Bachelor's/Master's/PhD),\n",
    "and \"Employment Status\" (Unemployed/Part-Time/Full-Time). Which encoding method would you use for\n",
    "each variable, and why?\n",
    "\n",
    "Ans. \n",
    "For encoding categorical variables:\n",
    "\n",
    "1. Gender (Male/Female)\n",
    "\n",
    "Method: Label Encoding (Male = 0, Female = 1)\n",
    "\n",
    "Reason: Simple and effective for binary categories.\n",
    "\n",
    "2. Education Level (High School/Bachelor's/Master's/PhD)\n",
    "\n",
    "Method: Ordinal Encoding (High School = 0, Bachelor's = 1, Master's = 2, PhD = 3)\n",
    "\n",
    "Reason: Reflects natural order.\n",
    "\n",
    "3. Employment Status (Unemployed/Part-Time/Full-Time)\n",
    "\n",
    "Method: One-Hot Encoding\n",
    "\n",
    "Reason: No intrinsic order, avoids ordinal assumptions."
   ]
  },
  {
   "cell_type": "markdown",
   "id": "366ca11f-918b-4263-b365-aeae3c0f2e3a",
   "metadata": {},
   "source": [
    "Q7. You are analyzing a dataset with two continuous variables, \"Temperature\" and \"Humidity\", and two\n",
    "categorical variables, \"Weather Condition\" (Sunny/Cloudy/Rainy) and \"Wind Direction\" (North/South/\n",
    "East/West). Calculate the covariance between each pair of variables and interpret the results.\n",
    "\n",
    "Ans."
   ]
  },
  {
   "cell_type": "code",
   "execution_count": 3,
   "id": "0221178b-4222-4684-bc17-932b9e5aae31",
   "metadata": {},
   "outputs": [
    {
     "data": {
      "text/plain": [
       "0    North\n",
       "1    South\n",
       "2     East\n",
       "3     West\n",
       "4    North\n",
       "Name: Wind Direction, dtype: object"
      ]
     },
     "execution_count": 3,
     "metadata": {},
     "output_type": "execute_result"
    }
   ],
   "source": [
    "import pandas as pd\n",
    "import numpy as np\n",
    "from sklearn.preprocessing import LabelEncoder\n",
    "\n",
    "# Sample dataset\n",
    "data = pd.DataFrame({\n",
    "    'Temperature': [30, 25, 20, 35, 28],\n",
    "    'Humidity': [70, 60, 80, 75, 65],\n",
    "    'Weather Condition': ['Sunny', 'Cloudy', 'Rainy', 'Sunny', 'Cloudy'],\n",
    "    'Wind Direction': ['North', 'South', 'East', 'West', 'North']\n",
    "})\n",
    "\n",
    "# Label Encoding for categorical variables\n",
    "le_weather = LabelEncoder()\n",
    "le_wind = LabelEncoder()\n",
    "\n",
    "data['Weather Condition'] = le_weather.fit_transform(data['Weather Condition'])\n",
    "data['Wind Direction']\n"
   ]
  },
  {
   "cell_type": "code",
   "execution_count": null,
   "id": "7e414555-e82a-45f4-9dfa-539f4daaf7ca",
   "metadata": {},
   "outputs": [],
   "source": []
  }
 ],
 "metadata": {
  "kernelspec": {
   "display_name": "Python 3 (ipykernel)",
   "language": "python",
   "name": "python3"
  },
  "language_info": {
   "codemirror_mode": {
    "name": "ipython",
    "version": 3
   },
   "file_extension": ".py",
   "mimetype": "text/x-python",
   "name": "python",
   "nbconvert_exporter": "python",
   "pygments_lexer": "ipython3",
   "version": "3.10.8"
  }
 },
 "nbformat": 4,
 "nbformat_minor": 5
}
