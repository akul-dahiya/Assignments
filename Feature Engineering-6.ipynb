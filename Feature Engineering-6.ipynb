{
 "cells": [
  {
   "cell_type": "markdown",
   "id": "b3976cb8-b039-4770-ae74-f64db6ee8303",
   "metadata": {},
   "source": [
    "Q1. Pearson correlation coefficient is a measure of the linear relationship between two variables. Suppose\n",
    "you have collected data on the amount of time students spend studying for an exam and their final exam\n",
    "scores. Calculate the Pearson correlation coefficient between these two variables and interpret the result.\n",
    "\n",
    "Ans. The Pearson correlation coefficient measures the strength and direction of the linear relationship between two variables. A coefficient close to 1 indicates a strong positive correlation, while a coefficient close to -1 indicates a strong negative correlation."
   ]
  },
  {
   "cell_type": "code",
   "execution_count": 2,
   "id": "5837b732-27a6-4191-945b-f2fd2ef45f68",
   "metadata": {},
   "outputs": [
    {
     "data": {
      "text/plain": [
       "0.9705574414049347"
      ]
     },
     "execution_count": 2,
     "metadata": {},
     "output_type": "execute_result"
    }
   ],
   "source": [
    "import pandas as pd\n",
    "\n",
    "# Data\n",
    "data = {\n",
    "    'Hours_Studied': [2, 3, 5, 7, 8],\n",
    "    'Exam_Scores': [50, 60, 80, 85, 90]\n",
    "}\n",
    "\n",
    "# Create DataFrame\n",
    "df = pd.DataFrame(data)\n",
    "\n",
    "# Calculate Pearson correlation coefficient\n",
    "pearson_correlation = df['Hours_Studied'].corr(df['Exam_Scores'])\n",
    "\n",
    "pearson_correlation\n"
   ]
  },
  {
   "cell_type": "markdown",
   "id": "82b41a18-c1fa-4d40-904f-57f2215cd509",
   "metadata": {},
   "source": [
    "Q2. Spearman's rank correlation is a measure of the monotonic relationship between two variables.\n",
    "Suppose you have collected data on the amount of sleep individuals get each night and their overall job\n",
    "satisfaction level on a scale of 1 to 10. Calculate the Spearman's rank correlation between these two\n",
    "variables and interpret the result."
   ]
  },
  {
   "cell_type": "code",
   "execution_count": 3,
   "id": "d0fa8fa2-9aab-4278-b273-62f8a68304d4",
   "metadata": {},
   "outputs": [
    {
     "data": {
      "text/plain": [
       "0.8999999999999998"
      ]
     },
     "execution_count": 3,
     "metadata": {},
     "output_type": "execute_result"
    }
   ],
   "source": [
    "import pandas as pd\n",
    "\n",
    "# Data\n",
    "data = {\n",
    "    'Sleep_Hours': [7, 6, 8, 5, 9],\n",
    "    'Job_Satisfaction': [8, 6, 7, 5, 9]\n",
    "}\n",
    "\n",
    "# Create DataFrame\n",
    "df = pd.DataFrame(data)\n",
    "\n",
    "# Calculate Spearman's rank correlation\n",
    "spearman_correlation = df['Sleep_Hours'].corr(df['Job_Satisfaction'], method='spearman')\n",
    "\n",
    "spearman_correlation\n"
   ]
  },
  {
   "cell_type": "markdown",
   "id": "013f3cc0-f214-46e5-80d5-9498347a0c6d",
   "metadata": {},
   "source": [
    "Q3. Suppose you are conducting a study to examine the relationship between the number of hours of\n",
    "exercise per week and body mass index (BMI) in a sample of adults. You collected data on both variables\n",
    "for 50 participants. Calculate the Pearson correlation coefficient and the Spearman's rank correlation\n",
    "between these two variables and compare the results.\n",
    "\n",
    "Ans."
   ]
  },
  {
   "cell_type": "code",
   "execution_count": 4,
   "id": "dcafb807-7162-46b4-bfc9-6bc08e1da520",
   "metadata": {},
   "outputs": [
    {
     "data": {
      "text/plain": [
       "(-0.8166590785517774, -0.8015846338535414)"
      ]
     },
     "execution_count": 4,
     "metadata": {},
     "output_type": "execute_result"
    }
   ],
   "source": [
    "import pandas as pd\n",
    "import numpy as np\n",
    "\n",
    "# Generate example data\n",
    "np.random.seed(0)\n",
    "exercise_hours = np.random.uniform(1, 10, 50)  # Hours of exercise per week\n",
    "BMI = 30 - 0.5 * exercise_hours + np.random.normal(0, 1, 50)  # BMI with some noise\n",
    "\n",
    "# Create DataFrame\n",
    "df = pd.DataFrame({\n",
    "    'Exercise_Hours': exercise_hours,\n",
    "    'BMI': BMI\n",
    "})\n",
    "\n",
    "# Calculate Pearson correlation coefficient\n",
    "pearson_correlation = df['Exercise_Hours'].corr(df['BMI'])\n",
    "\n",
    "# Calculate Spearman rank correlation coefficient\n",
    "spearman_correlation = df['Exercise_Hours'].corr(df['BMI'], method='spearman')\n",
    "\n",
    "pearson_correlation, spearman_correlation\n"
   ]
  },
  {
   "cell_type": "markdown",
   "id": "74653d9e-72f0-429a-8d24-2fa959ffeefa",
   "metadata": {},
   "source": [
    "Q4. A researcher is interested in examining the relationship between the number of hours individuals\n",
    "spend watching television per day and their level of physical activity. The researcher collected data on\n",
    "both variables from a sample of 50 participants. Calculate the Pearson correlation coefficient between\n",
    "these two variables.\n",
    "\n",
    "Ans. "
   ]
  },
  {
   "cell_type": "code",
   "execution_count": 5,
   "id": "1b13cfc4-0a45-4647-bf38-b7f30cd30e37",
   "metadata": {},
   "outputs": [
    {
     "data": {
      "text/plain": [
       "-0.9393790876121633"
      ]
     },
     "execution_count": 5,
     "metadata": {},
     "output_type": "execute_result"
    }
   ],
   "source": [
    "import pandas as pd\n",
    "import numpy as np\n",
    "\n",
    "# Generate example data\n",
    "np.random.seed(0)\n",
    "tv_hours = np.random.uniform(1, 10, 50)  # Hours of TV watching per day\n",
    "physical_activity = 10 - tv_hours + np.random.normal(0, 1, 50)  # Level of physical activity with some noise\n",
    "\n",
    "# Create DataFrame\n",
    "df = pd.DataFrame({\n",
    "    'TV_Hours': tv_hours,\n",
    "    'Physical_Activity': physical_activity\n",
    "})\n",
    "\n",
    "# Calculate Pearson correlation coefficient\n",
    "pearson_correlation = df['TV_Hours'].corr(df['Physical_Activity'])\n",
    "\n",
    "pearson_correlation\n"
   ]
  },
  {
   "cell_type": "markdown",
   "id": "2b4501bf-30bf-48ef-a974-259378ad6678",
   "metadata": {},
   "source": [
    "Q5. A survey was conducted to examine the relationship between age and preference for a particular\n",
    "brand of soft drink. The survey results are shown below:"
   ]
  },
  {
   "cell_type": "code",
   "execution_count": 6,
   "id": "bbb11a2c-d1c4-4ad3-9617-718027871204",
   "metadata": {},
   "outputs": [
    {
     "data": {
      "text/html": [
       "<div>\n",
       "<style scoped>\n",
       "    .dataframe tbody tr th:only-of-type {\n",
       "        vertical-align: middle;\n",
       "    }\n",
       "\n",
       "    .dataframe tbody tr th {\n",
       "        vertical-align: top;\n",
       "    }\n",
       "\n",
       "    .dataframe thead th {\n",
       "        text-align: right;\n",
       "    }\n",
       "</style>\n",
       "<table border=\"1\" class=\"dataframe\">\n",
       "  <thead>\n",
       "    <tr style=\"text-align: right;\">\n",
       "      <th></th>\n",
       "      <th>Age</th>\n",
       "      <th>Soft_Drink</th>\n",
       "      <th>Soft_Drink_Encoded</th>\n",
       "    </tr>\n",
       "  </thead>\n",
       "  <tbody>\n",
       "    <tr>\n",
       "      <th>0</th>\n",
       "      <td>25</td>\n",
       "      <td>Coke</td>\n",
       "      <td>1</td>\n",
       "    </tr>\n",
       "    <tr>\n",
       "      <th>1</th>\n",
       "      <td>42</td>\n",
       "      <td>Pepsi</td>\n",
       "      <td>2</td>\n",
       "    </tr>\n",
       "    <tr>\n",
       "      <th>2</th>\n",
       "      <td>37</td>\n",
       "      <td>Mountain Dew</td>\n",
       "      <td>3</td>\n",
       "    </tr>\n",
       "    <tr>\n",
       "      <th>3</th>\n",
       "      <td>19</td>\n",
       "      <td>Coke</td>\n",
       "      <td>1</td>\n",
       "    </tr>\n",
       "    <tr>\n",
       "      <th>4</th>\n",
       "      <td>31</td>\n",
       "      <td>Pepsi</td>\n",
       "      <td>2</td>\n",
       "    </tr>\n",
       "    <tr>\n",
       "      <th>5</th>\n",
       "      <td>28</td>\n",
       "      <td>Coke</td>\n",
       "      <td>1</td>\n",
       "    </tr>\n",
       "  </tbody>\n",
       "</table>\n",
       "</div>"
      ],
      "text/plain": [
       "   Age    Soft_Drink  Soft_Drink_Encoded\n",
       "0   25          Coke                   1\n",
       "1   42         Pepsi                   2\n",
       "2   37  Mountain Dew                   3\n",
       "3   19          Coke                   1\n",
       "4   31         Pepsi                   2\n",
       "5   28          Coke                   1"
      ]
     },
     "execution_count": 6,
     "metadata": {},
     "output_type": "execute_result"
    }
   ],
   "source": [
    "import pandas as pd\n",
    "\n",
    "# Data\n",
    "data = {\n",
    "    'Age': [25, 42, 37, 19, 31, 28],\n",
    "    'Soft_Drink': ['Coke', 'Pepsi', 'Mountain Dew', 'Coke', 'Pepsi', 'Coke']\n",
    "}\n",
    "\n",
    "# Create DataFrame\n",
    "df = pd.DataFrame(data)\n",
    "\n",
    "# Encode soft drink preferences\n",
    "df['Soft_Drink_Encoded'] = df['Soft_Drink'].map({'Coke': 1, 'Pepsi': 2, 'Mountain Dew': 3})\n",
    "\n",
    "# Display the DataFrame\n",
    "df\n"
   ]
  },
  {
   "cell_type": "code",
   "execution_count": 7,
   "id": "c6bc1112-33f3-4b86-be7a-c92b071b90e9",
   "metadata": {},
   "outputs": [
    {
     "data": {
      "text/plain": [
       "0.7587035441865058"
      ]
     },
     "execution_count": 7,
     "metadata": {},
     "output_type": "execute_result"
    }
   ],
   "source": [
    "# Calculate Pearson correlation coefficient\n",
    "pearson_correlation = df['Age'].corr(df['Soft_Drink_Encoded'])\n",
    "\n",
    "pearson_correlation\n"
   ]
  },
  {
   "cell_type": "markdown",
   "id": "30fd3f5a-e61a-4f9d-aa0d-68f4fc490f96",
   "metadata": {},
   "source": [
    "Q6. A company is interested in examining the relationship between the number of sales calls made per day\n",
    "and the number of sales made per week. The company collected data on both variables from a sample of\n",
    "30 sales representatives. Calculate the Pearson correlation coefficient between these two variables."
   ]
  },
  {
   "cell_type": "code",
   "execution_count": 8,
   "id": "fd57b1e3-1706-45fd-af3a-3525a17b787b",
   "metadata": {},
   "outputs": [
    {
     "data": {
      "text/plain": [
       "0.9014361113871349"
      ]
     },
     "execution_count": 8,
     "metadata": {},
     "output_type": "execute_result"
    }
   ],
   "source": [
    "import pandas as pd\n",
    "import numpy as np\n",
    "\n",
    "# Generate example data\n",
    "np.random.seed(0)\n",
    "sales_calls_per_day = np.random.randint(5, 20, 30)  # Number of sales calls made per day\n",
    "sales_per_week = sales_calls_per_day * 3 + np.random.normal(0, 5, 30)  # Number of sales made per week with some noise\n",
    "\n",
    "# Create DataFrame\n",
    "df = pd.DataFrame({\n",
    "    'Sales_Calls_Per_Day': sales_calls_per_day,\n",
    "    'Sales_Per_Week': sales_per_week\n",
    "})\n",
    "\n",
    "# Calculate Pearson correlation coefficient\n",
    "pearson_correlation = df['Sales_Calls_Per_Day'].corr(df['Sales_Per_Week'])\n",
    "\n",
    "pearson_correlation\n"
   ]
  },
  {
   "cell_type": "code",
   "execution_count": null,
   "id": "bc40fd7c-1fb7-44a0-8cfa-eb40ded964e9",
   "metadata": {},
   "outputs": [],
   "source": []
  }
 ],
 "metadata": {
  "kernelspec": {
   "display_name": "Python 3 (ipykernel)",
   "language": "python",
   "name": "python3"
  },
  "language_info": {
   "codemirror_mode": {
    "name": "ipython",
    "version": 3
   },
   "file_extension": ".py",
   "mimetype": "text/x-python",
   "name": "python",
   "nbconvert_exporter": "python",
   "pygments_lexer": "ipython3",
   "version": "3.10.8"
  }
 },
 "nbformat": 4,
 "nbformat_minor": 5
}
